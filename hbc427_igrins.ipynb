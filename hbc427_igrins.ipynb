{
 "cells": [
  {
   "cell_type": "code",
   "execution_count": 1,
   "metadata": {},
   "outputs": [],
   "source": [
    "import matplotlib.pyplot as plt\n",
    "import pandas as pd\n",
    "import numpy as np\n",
    "import glob\n",
    "\n",
    "from matplotlib.ticker import (MultipleLocator, AutoMinorLocator)\n",
    "\n",
    "\n",
    "from astropy.io import ascii\n",
    "from astropy.io import fits\n",
    "from astropy.table import Table, Column, join\n",
    "from astropy.wcs import WCS"
   ]
  },
  {
   "cell_type": "code",
   "execution_count": 2,
   "metadata": {},
   "outputs": [],
   "source": [
    "# Plotting Parameters\n",
    "plt.rcParams['font.size'] = 20\n",
    "plt.rcParams['axes.labelsize'] = 18\n",
    "plt.rcParams['xtick.labelsize'] = 18\n",
    "plt.rcParams['ytick.labelsize'] =18\n",
    "plt.rcParams['legend.fontsize'] = 16\n",
    "plt.rcParams['figure.titlesize'] = 20\n",
    "plt.rcParams['axes.labelweight']='bold'\n",
    "plt.rcParams['axes.linewidth'] = 3\n",
    "plt.rcParams['xtick.major.size'] = 7\n",
    "plt.rcParams['xtick.minor.size'] = 5\n",
    "plt.rcParams['ytick.major.size'] = 7\n",
    "plt.rcParams['ytick.minor.size'] = 5"
   ]
  },
  {
   "cell_type": "code",
   "execution_count": 3,
   "metadata": {},
   "outputs": [],
   "source": [
    "# Reduced data in txt files\n",
    "red_dat_path = \"A:/Documents/Grad_School/Research/igrins_reduced_text/\"\n",
    "fig_path = \"A:/Documents/Grad_School/Research/\"\n",
    "# Glob the H band txt files\n",
    "k_spec_files = glob.glob(red_dat_path+\"*_K_*.txt\")"
   ]
  },
  {
   "cell_type": "code",
   "execution_count": 4,
   "metadata": {},
   "outputs": [
    {
     "data": {
      "text/plain": [
       "['A:/Documents/Grad_School/Research/igrins_reduced_text\\\\HBC427_20171229_K_0048_spec_A0v (1).txt',\n",
       " 'A:/Documents/Grad_School/Research/igrins_reduced_text\\\\HBC427_20171229_K_0048_spec_A0v.txt',\n",
       " 'A:/Documents/Grad_School/Research/igrins_reduced_text\\\\HBC427_20171229_K_0064_spec_A0v (1).txt',\n",
       " 'A:/Documents/Grad_School/Research/igrins_reduced_text\\\\HBC427_20171229_K_0064_spec_A0v.txt']"
      ]
     },
     "execution_count": 4,
     "metadata": {},
     "output_type": "execute_result"
    }
   ],
   "source": [
    "# Preliminary look at hbc427, an M5 spectral type in Taurus, total int time of 300\n",
    "hbc427_files = glob.glob(red_dat_path+\"*hbc427*_k_*\")\n",
    "hbc427_files"
   ]
  },
  {
   "cell_type": "code",
   "execution_count": 5,
   "metadata": {},
   "outputs": [
    {
     "data": {
      "text/html": [
       "<div>\n",
       "<style scoped>\n",
       "    .dataframe tbody tr th:only-of-type {\n",
       "        vertical-align: middle;\n",
       "    }\n",
       "\n",
       "    .dataframe tbody tr th {\n",
       "        vertical-align: top;\n",
       "    }\n",
       "\n",
       "    .dataframe thead th {\n",
       "        text-align: right;\n",
       "    }\n",
       "</style>\n",
       "<table border=\"1\" class=\"dataframe\">\n",
       "  <thead>\n",
       "    <tr style=\"text-align: right;\">\n",
       "      <th></th>\n",
       "      <th>Spectral Index</th>\n",
       "      <th>Wavelength</th>\n",
       "      <th>Flux</th>\n",
       "      <th>SNR</th>\n",
       "    </tr>\n",
       "  </thead>\n",
       "  <tbody>\n",
       "    <tr>\n",
       "      <td>1834</td>\n",
       "      <td>0.0</td>\n",
       "      <td>1.87058</td>\n",
       "      <td>8.557040e+06</td>\n",
       "      <td>6.04781</td>\n",
       "    </tr>\n",
       "    <tr>\n",
       "      <td>1873</td>\n",
       "      <td>0.0</td>\n",
       "      <td>1.87102</td>\n",
       "      <td>3.295990e+06</td>\n",
       "      <td>5.22275</td>\n",
       "    </tr>\n",
       "    <tr>\n",
       "      <td>2478</td>\n",
       "      <td>1.0</td>\n",
       "      <td>1.87228</td>\n",
       "      <td>4.054250e+09</td>\n",
       "      <td>86.58210</td>\n",
       "    </tr>\n",
       "    <tr>\n",
       "      <td>2734</td>\n",
       "      <td>1.0</td>\n",
       "      <td>1.87571</td>\n",
       "      <td>1.387250e+07</td>\n",
       "      <td>8.15636</td>\n",
       "    </tr>\n",
       "    <tr>\n",
       "      <td>2944</td>\n",
       "      <td>1.0</td>\n",
       "      <td>1.87846</td>\n",
       "      <td>1.632870e+06</td>\n",
       "      <td>5.24463</td>\n",
       "    </tr>\n",
       "    <tr>\n",
       "      <td>...</td>\n",
       "      <td>...</td>\n",
       "      <td>...</td>\n",
       "      <td>...</td>\n",
       "      <td>...</td>\n",
       "    </tr>\n",
       "    <tr>\n",
       "      <td>52129</td>\n",
       "      <td>25.0</td>\n",
       "      <td>2.50115</td>\n",
       "      <td>8.276700e+04</td>\n",
       "      <td>5.81407</td>\n",
       "    </tr>\n",
       "    <tr>\n",
       "      <td>52133</td>\n",
       "      <td>25.0</td>\n",
       "      <td>2.50122</td>\n",
       "      <td>6.127770e+04</td>\n",
       "      <td>5.06282</td>\n",
       "    </tr>\n",
       "    <tr>\n",
       "      <td>52136</td>\n",
       "      <td>25.0</td>\n",
       "      <td>2.50127</td>\n",
       "      <td>7.076120e+04</td>\n",
       "      <td>5.24191</td>\n",
       "    </tr>\n",
       "    <tr>\n",
       "      <td>52178</td>\n",
       "      <td>25.0</td>\n",
       "      <td>2.50198</td>\n",
       "      <td>1.053350e+05</td>\n",
       "      <td>5.10821</td>\n",
       "    </tr>\n",
       "    <tr>\n",
       "      <td>52658</td>\n",
       "      <td>25.0</td>\n",
       "      <td>2.50976</td>\n",
       "      <td>4.977770e+05</td>\n",
       "      <td>5.27785</td>\n",
       "    </tr>\n",
       "  </tbody>\n",
       "</table>\n",
       "<p>44000 rows × 4 columns</p>\n",
       "</div>"
      ],
      "text/plain": [
       "       Spectral Index  Wavelength          Flux       SNR\n",
       "1834              0.0     1.87058  8.557040e+06   6.04781\n",
       "1873              0.0     1.87102  3.295990e+06   5.22275\n",
       "2478              1.0     1.87228  4.054250e+09  86.58210\n",
       "2734              1.0     1.87571  1.387250e+07   8.15636\n",
       "2944              1.0     1.87846  1.632870e+06   5.24463\n",
       "...               ...         ...           ...       ...\n",
       "52129            25.0     2.50115  8.276700e+04   5.81407\n",
       "52133            25.0     2.50122  6.127770e+04   5.06282\n",
       "52136            25.0     2.50127  7.076120e+04   5.24191\n",
       "52178            25.0     2.50198  1.053350e+05   5.10821\n",
       "52658            25.0     2.50976  4.977770e+05   5.27785\n",
       "\n",
       "[44000 rows x 4 columns]"
      ]
     },
     "execution_count": 5,
     "metadata": {},
     "output_type": "execute_result"
    }
   ],
   "source": [
    "# Use pandas to read the .txt file and create a data frame\n",
    "# Skip first few lines of header, change \"-NaN\" to NaN in the signal-to-noise columns\n",
    "hbc427_df = pd.read_csv(hbc427_files[0],skiprows=7, delim_whitespace=True,na_values=['-NaN'])\n",
    "# Make column names\n",
    "hbc427_df.columns = [\"Spectral Index\", \"Wavelength\", \"Flux\", \"SNR\"]\n",
    "# Define thresholds for SNR and Flux\n",
    "snr_threshold = 5\n",
    "flux_threshold = 0\n",
    "# Do the selection using pandas dataframe magic\n",
    "hbc427_df = hbc427_df[(hbc427_df[\"SNR\"] > snr_threshold) & (hbc427_df[\"Flux\"] > flux_threshold)]\n",
    "hbc427_df"
   ]
  },
  {
   "cell_type": "code",
   "execution_count": 6,
   "metadata": {},
   "outputs": [],
   "source": [
    "# Wavelength (microns)\n",
    "hbc427_wavlen = hbc427_df['Wavelength']\n",
    "# Flux (counts)\n",
    "hbc427_flux = hbc427_df['Flux']"
   ]
  },
  {
   "cell_type": "code",
   "execution_count": 8,
   "metadata": {},
   "outputs": [
    {
     "data": {
      "image/png": "[encoded data removed]",
      "text/plain": [
       "<Figure size 1440x720 with 1 Axes>"
      ]
     },
     "metadata": {
      "needs_background": "light"
     },
     "output_type": "display_data"
    }
   ],
   "source": [
    "# for wavlen,flux in zip(hbc427_wavlen,hbc427_flux):\n",
    "\n",
    "fig,ax = plt.subplots(figsize=(20,10))\n",
    "\n",
    "# Plot wavelength vs flux\n",
    "# there is definitely a way to do this with a for loop but oh well\n",
    "ax.scatter(hbc427_wavlen, hbc427_flux,label=\"hbc427\",s=3,c=\"black\")\n",
    "\n",
    "# ax.set_xlim(1.55,1.56)\n",
    "ax.set_xscale('log')\n",
    "ax.set_yscale('log')\n",
    "\n",
    "ax.legend(loc='best')\n",
    "\n",
    "ax.set_title(\"hbc427 Spectra\", fontsize = 22)\n",
    "ax.set_xlabel('Wavelength ($\\mu m$)',fontsize=16)\n",
    "ax.set_ylabel('Flux (counts)',fontsize=16)\n",
    "\n",
    "plt.savefig(fig_path + \"hbc427_igrins_spectra\" + '.png',facecolor='white')\n",
    "plt.show()"
   ]
  },
  {
   "cell_type": "code",
   "execution_count": null,
   "metadata": {},
   "outputs": [],
   "source": []
  }
 ],
 "metadata": {
  "kernelspec": {
   "display_name": "astro",
   "language": "python",
   "name": "python3"
  },
  "language_info": {
   "codemirror_mode": {
    "name": "ipython",
    "version": 3
   },
   "file_extension": ".py",
   "mimetype": "text/x-python",
   "name": "python",
   "nbconvert_exporter": "python",
   "pygments_lexer": "ipython3",
   "version": "3.7.4"
  },
  "orig_nbformat": 4
 },
 "nbformat": 4,
 "nbformat_minor": 2
}
