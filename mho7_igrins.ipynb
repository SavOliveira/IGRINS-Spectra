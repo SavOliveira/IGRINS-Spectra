{
 "cells": [
  {
   "cell_type": "code",
   "execution_count": 90,
   "metadata": {},
   "outputs": [],
   "source": [
    "import matplotlib.pyplot as plt\n",
    "import pandas as pd\n",
    "import numpy as np\n",
    "import glob\n",
    "\n",
    "from matplotlib.ticker import (MultipleLocator, AutoMinorLocator)\n",
    "\n",
    "\n",
    "from astropy.io import ascii\n",
    "from astropy.io import fits\n",
    "from astropy.table import Table, Column, join\n",
    "from astropy.wcs import WCS"
   ]
  },
  {
   "cell_type": "code",
   "execution_count": 91,
   "metadata": {},
   "outputs": [],
   "source": [
    "# Plotting Parameters\n",
    "plt.rcParams['font.size'] = 20\n",
    "plt.rcParams['axes.labelsize'] = 18\n",
    "plt.rcParams['xtick.labelsize'] = 18\n",
    "plt.rcParams['ytick.labelsize'] =18\n",
    "plt.rcParams['legend.fontsize'] = 16\n",
    "plt.rcParams['figure.titlesize'] = 20\n",
    "plt.rcParams['axes.labelweight']='bold'\n",
    "plt.rcParams['axes.linewidth'] = 3\n",
    "plt.rcParams['xtick.major.size'] = 7\n",
    "plt.rcParams['xtick.minor.size'] = 5\n",
    "plt.rcParams['ytick.major.size'] = 7\n",
    "plt.rcParams['ytick.minor.size'] = 5"
   ]
  },
  {
   "cell_type": "code",
   "execution_count": 92,
   "metadata": {},
   "outputs": [],
   "source": [
    "# Reduced data in txt files\n",
    "red_dat_path = \"A:/Documents/Grad_School/Research/igrins_reduced_text/\"\n",
    "fig_path = \"A:/Documents/Grad_School/Research/\"\n",
    "# Glob the H band txt files\n",
    "k_spec_files = glob.glob(red_dat_path+\"*_K_*.txt\")"
   ]
  },
  {
   "cell_type": "code",
   "execution_count": 100,
   "metadata": {},
   "outputs": [],
   "source": [
    "# # Just sorting the files, might not be necessary\n",
    "# k_spec_files.sort()\n",
    "# k_spec_files"
   ]
  },
  {
   "cell_type": "code",
   "execution_count": 94,
   "metadata": {},
   "outputs": [],
   "source": [
    "# # List of Class 3 Standards from MasterObservationList\n",
    "# # Spectral Types range from K1 to M6\n",
    "# # Will try to put to good use later\n",
    "# standards_list = [\n",
    "# \"Haro 6-13\",\n",
    "# \"HBC 359\",\n",
    "# \"HBC 376\",\n",
    "# \"HBC 427\",\n",
    "# \"HD 286178\",\n",
    "# \"HQ Tau\",\n",
    "# \"Hubble 4\",\n",
    "# \"JH 433\",\n",
    "# \"JH 507\",\n",
    "# \"JH108\",\n",
    "# \"LkCa1\",\n",
    "# \"LkCa14\",\n",
    "# \"LkCa4\",\n",
    "# \"MHO 7\",\n",
    "# \"MHO 8\",\n",
    "# ]\n",
    "# # standards_list = standards_list.sort()"
   ]
  },
  {
   "cell_type": "code",
   "execution_count": 95,
   "metadata": {},
   "outputs": [
    {
     "data": {
      "text/plain": [
       "['A:/Documents/Grad_School/Research/igrins_reduced_text\\\\MHO7_20171231_K_0055_spec_A0v.txt',\n",
       " 'A:/Documents/Grad_School/Research/igrins_reduced_text\\\\MHO7_20171231_K_0063_spec_A0v.txt']"
      ]
     },
     "execution_count": 95,
     "metadata": {},
     "output_type": "execute_result"
    }
   ],
   "source": [
    "# Preliminary look at MHO7, an M5 spectral type in Taurus, total int time of 300\n",
    "mho7_files = glob.glob(red_dat_path+\"*mho7*_k_*\")\n",
    "mho7_files"
   ]
  },
  {
   "cell_type": "code",
   "execution_count": 96,
   "metadata": {},
   "outputs": [
    {
     "data": {
      "text/html": [
       "<div>\n",
       "<style scoped>\n",
       "    .dataframe tbody tr th:only-of-type {\n",
       "        vertical-align: middle;\n",
       "    }\n",
       "\n",
       "    .dataframe tbody tr th {\n",
       "        vertical-align: top;\n",
       "    }\n",
       "\n",
       "    .dataframe thead th {\n",
       "        text-align: right;\n",
       "    }\n",
       "</style>\n",
       "<table border=\"1\" class=\"dataframe\">\n",
       "  <thead>\n",
       "    <tr style=\"text-align: right;\">\n",
       "      <th></th>\n",
       "      <th>Spectral Index</th>\n",
       "      <th>Wavelength</th>\n",
       "      <th>Flux</th>\n",
       "      <th>SNR</th>\n",
       "    </tr>\n",
       "  </thead>\n",
       "  <tbody>\n",
       "    <tr>\n",
       "      <td>1774</td>\n",
       "      <td>0.0</td>\n",
       "      <td>1.86992</td>\n",
       "      <td>5798310.0</td>\n",
       "      <td>6.07514</td>\n",
       "    </tr>\n",
       "    <tr>\n",
       "      <td>1777</td>\n",
       "      <td>0.0</td>\n",
       "      <td>1.86996</td>\n",
       "      <td>3364900.0</td>\n",
       "      <td>7.01000</td>\n",
       "    </tr>\n",
       "    <tr>\n",
       "      <td>1782</td>\n",
       "      <td>0.0</td>\n",
       "      <td>1.87001</td>\n",
       "      <td>2033110.0</td>\n",
       "      <td>5.81243</td>\n",
       "    </tr>\n",
       "    <tr>\n",
       "      <td>1783</td>\n",
       "      <td>0.0</td>\n",
       "      <td>1.87002</td>\n",
       "      <td>2728550.0</td>\n",
       "      <td>5.45719</td>\n",
       "    </tr>\n",
       "    <tr>\n",
       "      <td>1788</td>\n",
       "      <td>0.0</td>\n",
       "      <td>1.87008</td>\n",
       "      <td>3440690.0</td>\n",
       "      <td>5.31481</td>\n",
       "    </tr>\n",
       "    <tr>\n",
       "      <td>...</td>\n",
       "      <td>...</td>\n",
       "      <td>...</td>\n",
       "      <td>...</td>\n",
       "      <td>...</td>\n",
       "    </tr>\n",
       "    <tr>\n",
       "      <td>51136</td>\n",
       "      <td>24.0</td>\n",
       "      <td>2.48329</td>\n",
       "      <td>111531.0</td>\n",
       "      <td>5.82226</td>\n",
       "    </tr>\n",
       "    <tr>\n",
       "      <td>51198</td>\n",
       "      <td>24.0</td>\n",
       "      <td>2.48419</td>\n",
       "      <td>92056.1</td>\n",
       "      <td>32.14820</td>\n",
       "    </tr>\n",
       "    <tr>\n",
       "      <td>51801</td>\n",
       "      <td>25.0</td>\n",
       "      <td>2.49550</td>\n",
       "      <td>147510.0</td>\n",
       "      <td>5.30581</td>\n",
       "    </tr>\n",
       "    <tr>\n",
       "      <td>51892</td>\n",
       "      <td>25.0</td>\n",
       "      <td>2.49708</td>\n",
       "      <td>148042.0</td>\n",
       "      <td>5.66243</td>\n",
       "    </tr>\n",
       "    <tr>\n",
       "      <td>52532</td>\n",
       "      <td>25.0</td>\n",
       "      <td>2.50775</td>\n",
       "      <td>13577300.0</td>\n",
       "      <td>5.18475</td>\n",
       "    </tr>\n",
       "  </tbody>\n",
       "</table>\n",
       "<p>43066 rows × 4 columns</p>\n",
       "</div>"
      ],
      "text/plain": [
       "       Spectral Index  Wavelength        Flux       SNR\n",
       "1774              0.0     1.86992   5798310.0   6.07514\n",
       "1777              0.0     1.86996   3364900.0   7.01000\n",
       "1782              0.0     1.87001   2033110.0   5.81243\n",
       "1783              0.0     1.87002   2728550.0   5.45719\n",
       "1788              0.0     1.87008   3440690.0   5.31481\n",
       "...               ...         ...         ...       ...\n",
       "51136            24.0     2.48329    111531.0   5.82226\n",
       "51198            24.0     2.48419     92056.1  32.14820\n",
       "51801            25.0     2.49550    147510.0   5.30581\n",
       "51892            25.0     2.49708    148042.0   5.66243\n",
       "52532            25.0     2.50775  13577300.0   5.18475\n",
       "\n",
       "[43066 rows x 4 columns]"
      ]
     },
     "execution_count": 96,
     "metadata": {},
     "output_type": "execute_result"
    }
   ],
   "source": [
    "# Use pandas to read the .txt file and create a data frame\n",
    "# Skip first few lines of header, change \"-NaN\" to NaN in the signal-to-noise columns\n",
    "mho7_df = pd.read_csv(mho7_files[0],skiprows=7, delim_whitespace=True,na_values=['-NaN'])\n",
    "# Make column names\n",
    "mho7_df.columns = [\"Spectral Index\", \"Wavelength\", \"Flux\", \"SNR\"]\n",
    "# Define thresholds for SNR and Flux\n",
    "snr_threshold = 5\n",
    "flux_threshold = 0\n",
    "# Do the selection using pandas dataframe magic\n",
    "mho7_df = mho7_df[(mho7_df[\"SNR\"] > snr_threshold) & (mho7_df[\"Flux\"] > flux_threshold)]\n",
    "mho7_df"
   ]
  },
  {
   "cell_type": "code",
   "execution_count": 97,
   "metadata": {},
   "outputs": [],
   "source": [
    "# Wavelength (microns)\n",
    "mho7_wavlen = mho7_df['Wavelength']\n",
    "# Flux (counts)\n",
    "mho7_flux = mho7_df['Flux']"
   ]
  },
  {
   "cell_type": "code",
   "execution_count": 99,
   "metadata": {},
   "outputs": [
    {
     "data": {
      "image/png": "[encoded data removed]",
      "text/plain": [
       "<Figure size 1440x720 with 1 Axes>"
      ]
     },
     "metadata": {
      "needs_background": "light"
     },
     "output_type": "display_data"
    }
   ],
   "source": [
    "# for wavlen,flux in zip(mho7_wavlen,mho7_flux):\n",
    "\n",
    "fig,ax = plt.subplots(figsize=(20,10))\n",
    "\n",
    "# Plot wavelength vs flux\n",
    "# there is definitely a way to do this with a for loop but oh well\n",
    "ax.scatter(mho7_wavlen, mho7_flux,label=\"MHO7\",s=3,c=\"black\")\n",
    "\n",
    "# ax.set_xlim(1.55,1.56)\n",
    "ax.set_xscale('log')\n",
    "ax.set_yscale('log')\n",
    "\n",
    "ax.legend(loc='best')\n",
    "\n",
    "ax.set_title(\"MHO7 Spectra\", fontsize = 22)\n",
    "ax.set_xlabel('Wavelength ($\\mu m$)',fontsize=16)\n",
    "ax.set_ylabel('Flux (counts)',fontsize=16)\n",
    "\n",
    "plt.savefig(fig_path + \"MHO7_igrins_spectra\" + '.png',facecolor='white')\n",
    "plt.show()"
   ]
  },
  {
   "cell_type": "code",
   "execution_count": null,
   "metadata": {},
   "outputs": [],
   "source": []
  }
 ],
 "metadata": {
  "kernelspec": {
   "display_name": "astro",
   "language": "python",
   "name": "python3"
  },
  "language_info": {
   "codemirror_mode": {
    "name": "ipython",
    "version": 3
   },
   "file_extension": ".py",
   "mimetype": "text/x-python",
   "name": "python",
   "nbconvert_exporter": "python",
   "pygments_lexer": "ipython3",
   "version": "3.7.4"
  },
  "orig_nbformat": 4
 },
 "nbformat": 4,
 "nbformat_minor": 2
}
