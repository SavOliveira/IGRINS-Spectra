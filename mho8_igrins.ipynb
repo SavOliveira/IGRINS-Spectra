{
 "cells": [
  {
   "cell_type": "code",
   "execution_count": 1,
   "metadata": {},
   "outputs": [],
   "source": [
    "import matplotlib.pyplot as plt\n",
    "import pandas as pd\n",
    "import numpy as np\n",
    "import glob\n",
    "\n",
    "from matplotlib.ticker import (MultipleLocator, AutoMinorLocator)\n",
    "\n",
    "\n",
    "from astropy.io import ascii\n",
    "from astropy.io import fits\n",
    "from astropy.table import Table, Column, join\n",
    "from astropy.wcs import WCS"
   ]
  },
  {
   "cell_type": "code",
   "execution_count": 2,
   "metadata": {},
   "outputs": [],
   "source": [
    "# Plotting Parameters\n",
    "plt.rcParams['font.size'] = 20\n",
    "plt.rcParams['axes.labelsize'] = 18\n",
    "plt.rcParams['xtick.labelsize'] = 18\n",
    "plt.rcParams['ytick.labelsize'] =18\n",
    "plt.rcParams['legend.fontsize'] = 16\n",
    "plt.rcParams['figure.titlesize'] = 20\n",
    "plt.rcParams['axes.labelweight']='bold'\n",
    "plt.rcParams['axes.linewidth'] = 3\n",
    "plt.rcParams['xtick.major.size'] = 7\n",
    "plt.rcParams['xtick.minor.size'] = 5\n",
    "plt.rcParams['ytick.major.size'] = 7\n",
    "plt.rcParams['ytick.minor.size'] = 5"
   ]
  },
  {
   "cell_type": "code",
   "execution_count": 3,
   "metadata": {},
   "outputs": [],
   "source": [
    "# Reduced data in txt files\n",
    "red_dat_path = \"A:/Documents/Grad_School/Research/igrins_reduced_text/\"\n",
    "fig_path = \"A:/Documents/Grad_School/Research/\"\n",
    "# Glob the H band txt files\n",
    "k_spec_files = glob.glob(red_dat_path+\"*_K_*.txt\")"
   ]
  },
  {
   "cell_type": "code",
   "execution_count": 4,
   "metadata": {},
   "outputs": [
    {
     "data": {
      "text/plain": [
       "['A:/Documents/Grad_School/Research/igrins_reduced_text\\\\MHO8_20190124_K_0085_spec_A0v.txt']"
      ]
     },
     "execution_count": 4,
     "metadata": {},
     "output_type": "execute_result"
    }
   ],
   "source": [
    "# Preliminary look at mho8, an M5 spectral type in Taurus, total int time of 300\n",
    "mho8_files = glob.glob(red_dat_path+\"*mho8*_k_*\")\n",
    "mho8_files"
   ]
  },
  {
   "cell_type": "code",
   "execution_count": 5,
   "metadata": {},
   "outputs": [
    {
     "data": {
      "text/html": [
       "<div>\n",
       "<style scoped>\n",
       "    .dataframe tbody tr th:only-of-type {\n",
       "        vertical-align: middle;\n",
       "    }\n",
       "\n",
       "    .dataframe tbody tr th {\n",
       "        vertical-align: top;\n",
       "    }\n",
       "\n",
       "    .dataframe thead th {\n",
       "        text-align: right;\n",
       "    }\n",
       "</style>\n",
       "<table border=\"1\" class=\"dataframe\">\n",
       "  <thead>\n",
       "    <tr style=\"text-align: right;\">\n",
       "      <th></th>\n",
       "      <th>Spectral Index</th>\n",
       "      <th>Wavelength</th>\n",
       "      <th>Flux</th>\n",
       "      <th>SNR</th>\n",
       "    </tr>\n",
       "  </thead>\n",
       "  <tbody>\n",
       "    <tr>\n",
       "      <td>4</td>\n",
       "      <td>0.0</td>\n",
       "      <td>1.86641</td>\n",
       "      <td>2218550.0</td>\n",
       "      <td>6.16540</td>\n",
       "    </tr>\n",
       "    <tr>\n",
       "      <td>879</td>\n",
       "      <td>0.0</td>\n",
       "      <td>1.87826</td>\n",
       "      <td>10320200.0</td>\n",
       "      <td>5.42128</td>\n",
       "    </tr>\n",
       "    <tr>\n",
       "      <td>1209</td>\n",
       "      <td>0.0</td>\n",
       "      <td>1.88242</td>\n",
       "      <td>356591.0</td>\n",
       "      <td>5.23723</td>\n",
       "    </tr>\n",
       "    <tr>\n",
       "      <td>1219</td>\n",
       "      <td>0.0</td>\n",
       "      <td>1.88254</td>\n",
       "      <td>467981.0</td>\n",
       "      <td>6.50777</td>\n",
       "    </tr>\n",
       "    <tr>\n",
       "      <td>1229</td>\n",
       "      <td>0.0</td>\n",
       "      <td>1.88266</td>\n",
       "      <td>397929.0</td>\n",
       "      <td>5.47859</td>\n",
       "    </tr>\n",
       "    <tr>\n",
       "      <td>...</td>\n",
       "      <td>...</td>\n",
       "      <td>...</td>\n",
       "      <td>...</td>\n",
       "      <td>...</td>\n",
       "    </tr>\n",
       "    <tr>\n",
       "      <td>49078</td>\n",
       "      <td>23.0</td>\n",
       "      <td>2.48318</td>\n",
       "      <td>228338.0</td>\n",
       "      <td>5.66401</td>\n",
       "    </tr>\n",
       "    <tr>\n",
       "      <td>49080</td>\n",
       "      <td>23.0</td>\n",
       "      <td>2.48321</td>\n",
       "      <td>332806.0</td>\n",
       "      <td>6.17284</td>\n",
       "    </tr>\n",
       "    <tr>\n",
       "      <td>49084</td>\n",
       "      <td>23.0</td>\n",
       "      <td>2.48327</td>\n",
       "      <td>256809.0</td>\n",
       "      <td>5.55174</td>\n",
       "    </tr>\n",
       "    <tr>\n",
       "      <td>49773</td>\n",
       "      <td>24.0</td>\n",
       "      <td>2.49586</td>\n",
       "      <td>495800.0</td>\n",
       "      <td>5.30986</td>\n",
       "    </tr>\n",
       "    <tr>\n",
       "      <td>49919</td>\n",
       "      <td>24.0</td>\n",
       "      <td>2.49839</td>\n",
       "      <td>993744.0</td>\n",
       "      <td>5.58802</td>\n",
       "    </tr>\n",
       "  </tbody>\n",
       "</table>\n",
       "<p>43205 rows × 4 columns</p>\n",
       "</div>"
      ],
      "text/plain": [
       "       Spectral Index  Wavelength        Flux      SNR\n",
       "4                 0.0     1.86641   2218550.0  6.16540\n",
       "879               0.0     1.87826  10320200.0  5.42128\n",
       "1209              0.0     1.88242    356591.0  5.23723\n",
       "1219              0.0     1.88254    467981.0  6.50777\n",
       "1229              0.0     1.88266    397929.0  5.47859\n",
       "...               ...         ...         ...      ...\n",
       "49078            23.0     2.48318    228338.0  5.66401\n",
       "49080            23.0     2.48321    332806.0  6.17284\n",
       "49084            23.0     2.48327    256809.0  5.55174\n",
       "49773            24.0     2.49586    495800.0  5.30986\n",
       "49919            24.0     2.49839    993744.0  5.58802\n",
       "\n",
       "[43205 rows x 4 columns]"
      ]
     },
     "execution_count": 5,
     "metadata": {},
     "output_type": "execute_result"
    }
   ],
   "source": [
    "# Use pandas to read the .txt file and create a data frame\n",
    "# Skip first few lines of header, change \"-NaN\" to NaN in the signal-to-noise columns\n",
    "mho8_df = pd.read_csv(mho8_files[0],skiprows=7, delim_whitespace=True,na_values=['-NaN'])\n",
    "# Make column names\n",
    "mho8_df.columns = [\"Spectral Index\", \"Wavelength\", \"Flux\", \"SNR\"]\n",
    "# Define thresholds for SNR and Flux\n",
    "snr_threshold = 5\n",
    "flux_threshold = 0\n",
    "# Do the selection using pandas dataframe magic\n",
    "mho8_df = mho8_df[(mho8_df[\"SNR\"] > snr_threshold) & (mho8_df[\"Flux\"] > flux_threshold)]\n",
    "mho8_df"
   ]
  },
  {
   "cell_type": "code",
   "execution_count": 6,
   "metadata": {},
   "outputs": [],
   "source": [
    "# Wavelength (microns)\n",
    "mho8_wavlen = mho8_df['Wavelength']\n",
    "# Flux (counts)\n",
    "mho8_flux = mho8_df['Flux']"
   ]
  },
  {
   "cell_type": "code",
   "execution_count": 8,
   "metadata": {},
   "outputs": [
    {
     "data": {
      "image/png": "[encoded data removed]",
      "text/plain": [
       "<Figure size 1440x720 with 1 Axes>"
      ]
     },
     "metadata": {
      "needs_background": "light"
     },
     "output_type": "display_data"
    }
   ],
   "source": [
    "# for wavlen,flux in zip(mho8_wavlen,mho8_flux):\n",
    "\n",
    "fig,ax = plt.subplots(figsize=(20,10))\n",
    "\n",
    "# Plot wavelength vs flux\n",
    "# there is definitely a way to do this with a for loop but oh well\n",
    "ax.scatter(mho8_wavlen, mho8_flux,label=\"mho8\",s=3,c=\"black\")\n",
    "\n",
    "# ax.set_xlim(1.55,1.56)\n",
    "ax.set_xscale('log')\n",
    "ax.set_yscale('log')\n",
    "\n",
    "ax.legend(loc='best')\n",
    "\n",
    "ax.set_title(\"mho8 Spectra\", fontsize = 22)\n",
    "ax.set_xlabel('Wavelength ($\\mu m$)',fontsize=16)\n",
    "ax.set_ylabel('Flux (counts)',fontsize=16)\n",
    "\n",
    "plt.savefig(fig_path + \"mho8_igrins_spectra\" + '.png',facecolor='white')\n",
    "plt.show()"
   ]
  },
  {
   "cell_type": "code",
   "execution_count": null,
   "metadata": {},
   "outputs": [],
   "source": []
  }
 ],
 "metadata": {
  "kernelspec": {
   "display_name": "astro",
   "language": "python",
   "name": "python3"
  },
  "language_info": {
   "codemirror_mode": {
    "name": "ipython",
    "version": 3
   },
   "file_extension": ".py",
   "mimetype": "text/x-python",
   "name": "python",
   "nbconvert_exporter": "python",
   "pygments_lexer": "ipython3",
   "version": "3.7.4"
  },
  "orig_nbformat": 4
 },
 "nbformat": 4,
 "nbformat_minor": 2
}
