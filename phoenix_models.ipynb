{
 "cells": [
  {
   "cell_type": "code",
   "execution_count": 1,
   "metadata": {},
   "outputs": [
    {
     "ename": "ModuleNotFoundError",
     "evalue": "No module named 'gollum.phoenix'",
     "output_type": "error",
     "traceback": [
      "\u001b[1;31m---------------------------------------------------------------------------\u001b[0m",
      "\u001b[1;31mModuleNotFoundError\u001b[0m                       Traceback (most recent call last)",
      "Cell \u001b[1;32mIn[1], line 18\u001b[0m\n\u001b[0;32m     14\u001b[0m \u001b[38;5;28;01mfrom\u001b[39;00m \u001b[38;5;21;01mmuler\u001b[39;00m\u001b[38;5;21;01m.\u001b[39;00m\u001b[38;5;21;01migrins\u001b[39;00m \u001b[38;5;28;01mimport\u001b[39;00m IGRINSSpectrum, IGRINSSpectrumList\n\u001b[0;32m     16\u001b[0m \u001b[38;5;28;01mfrom\u001b[39;00m \u001b[38;5;21;01mtqdm\u001b[39;00m \u001b[38;5;28;01mimport\u001b[39;00m tqdm\n\u001b[1;32m---> 18\u001b[0m \u001b[38;5;28;01mfrom\u001b[39;00m \u001b[38;5;21;01mgollum\u001b[39;00m\u001b[38;5;21;01m.\u001b[39;00m\u001b[38;5;21;01mphoenix\u001b[39;00m \u001b[38;5;28;01mimport\u001b[39;00m PHOENIXSpectrum, PHOENIXGrid\n\u001b[0;32m     19\u001b[0m \u001b[38;5;28;01mfrom\u001b[39;00m \u001b[38;5;21;01mmuler\u001b[39;00m\u001b[38;5;21;01m.\u001b[39;00m\u001b[38;5;21;01mhpf\u001b[39;00m \u001b[38;5;28;01mimport\u001b[39;00m HPFSpectrumList\n\u001b[0;32m     20\u001b[0m \u001b[38;5;28;01mfrom\u001b[39;00m \u001b[38;5;21;01mspecutils\u001b[39;00m \u001b[38;5;28;01mimport\u001b[39;00m SpectralRegion\n",
      "\u001b[1;31mModuleNotFoundError\u001b[0m: No module named 'gollum.phoenix'"
     ]
    }
   ],
   "source": [
    "import numpy as np\n",
    "import matplotlib.pyplot as plt\n",
    "import pandas as pd\n",
    "\n",
    "import glob\n",
    "import os\n",
    "import warnings\n",
    "\n",
    "import astropy.units as u\n",
    "from astropy.modeling import models\n",
    "from astroquery.nist import Nist # atomic lines\n",
    "# from astroquery.linelists.cdms import CDMS # molecular lines?\n",
    "\n",
    "from muler.igrins import IGRINSSpectrum, IGRINSSpectrumList\n",
    "\n",
    "from tqdm import tqdm\n",
    "\n",
    "from gollum.phoenix import PHOENIXSpectrum, PHOENIXGrid\n",
    "from muler.hpf import HPFSpectrumList\n",
    "from specutils import SpectralRegion\n",
    "from specutils.manipulation import extract_region\n",
    "from specutils.fitting import find_lines_derivative, fit_continuum\n",
    "\n",
    "# %config InlineBackend.figure_format='retina'\n",
    "\n",
    "from astropy.io import fits\n",
    "\n",
    "# Plotting Parameters\n",
    "plt.rcParams['figure.figsize'] = (15, 5)\n",
    "plt.rcParams['font.size'] = 20\n",
    "plt.rcParams['axes.labelsize'] = 18\n",
    "plt.rcParams['xtick.labelsize'] = 18\n",
    "plt.rcParams['ytick.labelsize'] =18\n",
    "\n",
    "plt.rcParams['legend.fontsize'] = 16\n",
    "plt.rcParams['figure.titlesize'] = 20\n",
    "\n",
    "plt.rcParams['axes.labelweight']='bold'\n",
    "plt.rcParams['axes.linewidth'] = 3\n",
    "\n",
    "plt.rcParams['xtick.major.size'] = 10\n",
    "plt.rcParams['xtick.minor.visible'] = True\n",
    "plt.rcParams['xtick.minor.size'] = 5\n",
    "\n",
    "plt.rcParams['ytick.major.size'] = 10\n",
    "plt.rcParams['ytick.minor.visible'] = True\n",
    "plt.rcParams['ytick.minor.size'] = 5\n",
    "\n",
    "plt.rcParams['ytick.direction'] = 'in'\n",
    "plt.rcParams['xtick.direction'] = 'in'\n",
    "\n",
    "# %matplotlib --list"
   ]
  },
  {
   "cell_type": "code",
   "execution_count": null,
   "metadata": {},
   "outputs": [],
   "source": [
    "# Size of 1 spectral resolution element\n",
    "# IGRINS Spectral Resolution\n",
    "spec_res = 0.00001\n",
    "\n",
    "# Reduced and order-merged data filepath \n",
    "# Laptop Path\n",
    "data_path = \"C:\\\\Users\\\\Savio\\\\Documents\\\\GitHub\\\\IGRINS-Spectra\\\\IGRINS_Merged\"\n",
    "\n",
    "# File path for figures to live in\n",
    "fig_path = \"C:\\\\Users\\\\Savio\\\\Documents\\\\GitHub\\\\IGRINS-SpectraIGRINS_figs\\\\standards_spectra\"\n",
    "\n",
    "# Create the folder if it doesn't exist\n",
    "if not os.path.exists(fig_path):\n",
    "    os.makedirs(fig_path)\n",
    "\n",
    "# Nicole's merged K-band spectra of some Taurus Standards\n",
    "# merged_standard_files = glob.glob(data_path + \"/merged_standards/m*.fits\")\n",
    "standard_table = pd.read_csv('C:\\\\Users\\\\Savio\\\\Documents\\\\IGRINS-Spectra\\\\standard_table_v3.txt', index_col=0)  # csv of standards with file and Spectral Type, c/v TBA\n",
    "# just a pick a sequence of standards to look at: [\"LkCa1\",\"HBC427\",\"Hubble4\",\"Anon1\",\"LkCa5\",\"MHO8\"])]\n",
    "# Symposium sequence: [\"LkCa19\",\"HBC427\",\"Hubble4\",\"Anon1\",\"HBC359\",\"LkCa21\",\"LkCa1\",\"MHO8\"]\n",
    "standard_table = standard_table[standard_table['Name'].isin([\"LkCa19\",\"HBC427\",\"Hubble4\",\"Anon1\",\"HBC359\",\"LkCa21\",\"LkCa1\",\"MHO8\"])].reset_index(drop=True)\n",
    "\n",
    "proto_table = pd.read_csv('C:\\\\Users\\\\Savio\\\\Documents\\\\IGRINS-Spectra\\\\protostar_table.txt', index_col=0)\n",
    "\n",
    "standards_path = standard_table['File']\n",
    "standard_list = standard_table['File'].values\n",
    "\n",
    "proto_path = proto_table['File']\n",
    "proto_list = proto_table['File'].values"
   ]
  },
  {
   "cell_type": "code",
   "execution_count": null,
   "metadata": {},
   "outputs": [],
   "source": [
    "from bokeh.io import output_notebook"
   ]
  },
  {
   "cell_type": "markdown",
   "metadata": {},
   "source": [
    "# PHOENIX MODELS"
   ]
  },
  {
   "cell_type": "code",
   "execution_count": null,
   "metadata": {},
   "outputs": [],
   "source": [
    "phoenix_mod_path = \"C:\\\\Users\\\\Savio\\\\Documents\\\\phoenix_models\\\\phoenix.astro.physik.uni-goettingen.de\\\\HiResFITS\\\\\""
   ]
  },
  {
   "cell_type": "code",
   "execution_count": null,
   "metadata": {},
   "outputs": [],
   "source": [
    "standard_table"
   ]
  },
  {
   "cell_type": "code",
   "execution_count": null,
   "metadata": {},
   "outputs": [],
   "source": [
    "test_spec = IGRINSSpectrumList.read(standard_table['File'][0])[14].trim_edges(limits=(100,1948)).normalize().remove_nans()"
   ]
  },
  {
   "cell_type": "code",
   "execution_count": null,
   "metadata": {},
   "outputs": [],
   "source": [
    "grid = PHOENIXGrid(teff_range=(2500, 7000), logg_range=(0, 5), Z_range=(0,0),\n",
    "                   wl_lo=test_spec.wavelength.value.min(), wl_hi=test_spec.wavelength.value.max(),\n",
    "                   path=phoenix_mod_path)"
   ]
  },
  {
   "cell_type": "code",
   "execution_count": null,
   "metadata": {},
   "outputs": [],
   "source": [
    "grid.show_dashboard(test_spec, notebook_url='localhost:8888')"
   ]
  },
  {
   "cell_type": "code",
   "execution_count": null,
   "metadata": {},
   "outputs": [],
   "source": [
    "# for i in range(len(proto_table)):\n",
    "#     try:\n",
    "#         # Load and process each spectrum\n",
    "#         test_spec = IGRINSSpectrumList.read(proto_table['File'][i]).trim_overlap().remove_nans().stitch()\n",
    "\n",
    "#         # Define conditions for masking (example: keep only positive and non-NaN flux values)\n",
    "#         flux_condition = (test_spec.flux.value > 0) & (~np.isnan(test_spec.flux.value))\n",
    "#         wavelength_condition = (test_spec.spectral_axis.value > 20800) & (test_spec.spectral_axis.value < 24000)\n",
    "        \n",
    "#         # Combine the conditions into a single mask\n",
    "#         combined_mask = flux_condition & wavelength_condition\n",
    "        \n",
    "#         # Apply the mask if it’s not empty\n",
    "#         masked_spectrum = test_spec.apply_boolean_mask(combined_mask).normalize()\n",
    "\n",
    "#     except AssertionError as e:\n",
    "#         # Skip the spectrum if the mask leaves no pixels\n",
    "#         print(f\"Skipping spectrum at index {i} due to masking error: {e}\")\n",
    "#         continue  # Move to the next iteration\n",
    "\n",
    "#     masked_spectrum.plot()"
   ]
  },
  {
   "cell_type": "code",
   "execution_count": null,
   "metadata": {},
   "outputs": [],
   "source": [
    "template = PHOENIXSpectrum(teff=3000, logg=5, Z=0,wl_lo=np.min(test_spec.wavelength.value),wl_hi=np.max(test_spec.wavelength.value), download=True).normalize().resample(test_spec)"
   ]
  },
  {
   "cell_type": "code",
   "execution_count": null,
   "metadata": {},
   "outputs": [],
   "source": [
    "res = test_spec.flux-template.flux\n",
    "\n",
    "fig, (ax1,ax2) = plt.subplots(2,1,figsize=(15,5), gridspec_kw={'height_ratios': [4, 1]}, sharex=True)\n",
    "\n",
    "ax1.plot(test_spec.wavelength, test_spec.flux, label='Data')\n",
    "ax1.plot(template.wavelength, template.flux, label='PHOENIX Model')\n",
    "ax1.set_ylabel('Flux')\n",
    "\n",
    "ax2.scatter(template.wavelength, res,color='r',s=2)\n",
    "ax2.set_ylim(-0.25,0.25)\n",
    "ax2.set_xlabel('Wavelength')\n",
    "ax2.set_ylabel('res')\n",
    "\n",
    "ax1.legend()\n",
    "plt.show()"
   ]
  },
  {
   "cell_type": "code",
   "execution_count": null,
   "metadata": {},
   "outputs": [],
   "source": [
    "vsinis = np.linspace(1, 150, 20)\n",
    "rvs = np.linspace(-100, 100, 20)\n",
    "search_vsini, search_rv = np.meshgrid(vsinis, rvs, indexing='ij')"
   ]
  },
  {
   "cell_type": "code",
   "execution_count": null,
   "metadata": {},
   "outputs": [],
   "source": [
    "@np.vectorize\n",
    "def rss(vsini, rv):\n",
    "    model = template.rotationally_broaden(vsini).rv_shift(rv).instrumental_broaden(45000).resample(test_spec).normalize()\n",
    "    return np.nansum((test_spec.flux - model.flux)**2)\n",
    "\n",
    "loss = rss(search_vsini, search_rv)"
   ]
  },
  {
   "cell_type": "code",
   "execution_count": null,
   "metadata": {},
   "outputs": [],
   "source": [
    "best_i, best_j = np.unravel_index(np.argmin(loss), (len(vsinis), len(rvs)))\n",
    "best_vsini, best_rv = vsinis[best_i], rvs[best_j]\n",
    "best_vsini, best_rv"
   ]
  },
  {
   "cell_type": "code",
   "execution_count": null,
   "metadata": {},
   "outputs": [],
   "source": [
    "plt.imshow(loss, extent=[rvs.min(), rvs.max(), vsinis.min(), vsinis.max()], aspect='auto', origin='lower', interpolation='gaussian')\n",
    "plt.scatter(best_rv, best_vsini,  marker='*', c='w', ec='k', s=200)\n",
    "\n",
    "plt.colorbar(label='RSS')\n",
    "plt.xlabel(r'$v_r \\quad [\\mathrm{km}/\\mathrm{s}]$')\n",
    "plt.ylabel(r'$v\\sin(i) \\quad [\\mathrm{km}/\\mathrm{s}]$')\n",
    "\n",
    "plt.show()"
   ]
  },
  {
   "cell_type": "code",
   "execution_count": null,
   "metadata": {},
   "outputs": [],
   "source": [
    "min_wav_idx = np.nanargmin(test_spec.wavelength.value)\n",
    "max_wav_idx = np.nanargmax(test_spec.wavelength.value)"
   ]
  },
  {
   "cell_type": "code",
   "execution_count": null,
   "metadata": {},
   "outputs": [],
   "source": [
    "best_spec_full = template.rotationally_broaden(best_vsini).rv_shift(best_rv).instrumental_broaden(resolving_power=45000)\n",
    "best_spec = best_spec_full[min_wav_idx:max_wav_idx].normalize()"
   ]
  },
  {
   "cell_type": "code",
   "execution_count": null,
   "metadata": {},
   "outputs": [],
   "source": [
    "best_spec"
   ]
  },
  {
   "cell_type": "code",
   "execution_count": null,
   "metadata": {},
   "outputs": [],
   "source": [
    "ax = (test_spec/test_spec.flux.max()).plot(marker='.',markersize=1, linestyle='--', lw=1 , color='k', alpha=0.5, label='test_spec')\n",
    "\n",
    "(best_spec/np.nanmax(best_spec.flux)).plot(ax=ax,label='best_model', color='r', zorder=20)\n",
    "\n",
    "ax.set_ylim(0.5,1.25)\n",
    "ax.set_title(rf'$v\\sin(i)$ = {best_vsini:0.0f} km/s, $v_r$ = {best_rv:0.1f} km/s')\n",
    "\n",
    "plt.legend()\n",
    "plt.show()"
   ]
  },
  {
   "cell_type": "code",
   "execution_count": null,
   "metadata": {
    "tags": []
   },
   "outputs": [],
   "source": [
    "grid[0]"
   ]
  }
 ],
 "metadata": {
  "kernelspec": {
   "display_name": "muler_true",
   "language": "python",
   "name": "python3"
  },
  "language_info": {
   "codemirror_mode": {
    "name": "ipython",
    "version": 3
   },
   "file_extension": ".py",
   "mimetype": "text/x-python",
   "name": "python",
   "nbconvert_exporter": "python",
   "pygments_lexer": "ipython3",
   "version": "3.9.0"
  }
 },
 "nbformat": 4,
 "nbformat_minor": 4
}
